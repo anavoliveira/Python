{
 "cells": [
  {
   "cell_type": "code",
   "execution_count": 55,
   "id": "8ac877d5",
   "metadata": {},
   "outputs": [],
   "source": [
    "import pyautogui\n",
    "import pyperclip\n",
    "import time\n",
    "import pandas as pd\n",
    "\n",
    "\n",
    "pyautogui.hotkey('ctrl', 't')\n",
    "pyautogui.write('https://drive.google.com/drive/folders/1pdGvpu6DJzIBqPqu_J7zHEAjyNFq2KNc')\n",
    "pyautogui.press('enter')\n",
    "\n",
    "time.sleep(5)\n",
    "pyautogui.click(x=410, y=288, clicks=2)\n",
    "time.sleep(2)\n",
    "pyautogui.click(x=472, y=380)\n",
    "time.sleep(2)\n",
    "pyautogui.click(x=1164, y=189)\n",
    "time.sleep(2)\n",
    "pyautogui.click(x=1090, y=623)\n",
    "time.sleep(3)\n",
    "\n",
    "tabela = pd.read_excel(r\"C:\\Users\\anavi\\Downloads\\Vendas - Dez.xlsx\")\n",
    "faturamento = tabela[\"Valor Final\"].sum()\n",
    "quantidade = tabela[\"Quantidade\"].sum()\n",
    "\n",
    "pyautogui.hotkey('ctrl', 't')\n",
    "time.sleep(2)\n",
    "pyautogui.write('https://mail.google.com/mail/u/0/#inbox')\n",
    "pyautogui.press('enter')\n",
    "\n",
    "time.sleep(10)\n",
    "pyautogui.click(x=117, y=201)\n",
    "time.sleep(10)\n",
    "pyautogui.write('victoriaoliveiraavos@gmail.com')\n",
    "pyautogui.press('tab')\n",
    "time.sleep(2)\n",
    "pyautogui.press('tab')\n",
    "pyautogui.write('Curso de Automacao')\n",
    "pyautogui.press('tab')\n",
    "\n",
    "\n",
    "texto = f\"\"\"\n",
    "Prezados, bom dia\n",
    "\n",
    "O faturamento foi de RS {faturamento:,.2f}\n",
    "A quantidade de produtos foi de RS {quantidade:,}\n",
    "\"\"\"\n",
    "pyautogui.write(texto)\n",
    "pyautogui.hotkey('ctrl', 'enter')"
   ]
  },
  {
   "cell_type": "code",
   "execution_count": null,
   "id": "015705d7",
   "metadata": {},
   "outputs": [],
   "source": []
  }
 ],
 "metadata": {
  "kernelspec": {
   "display_name": "Python 3",
   "language": "python",
   "name": "python3"
  },
  "language_info": {
   "codemirror_mode": {
    "name": "ipython",
    "version": 3
   },
   "file_extension": ".py",
   "mimetype": "text/x-python",
   "name": "python",
   "nbconvert_exporter": "python",
   "pygments_lexer": "ipython3",
   "version": "3.8.8"
  }
 },
 "nbformat": 4,
 "nbformat_minor": 5
}

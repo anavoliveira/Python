{
 "cells": [
  {
   "cell_type": "code",
   "execution_count": 9,
   "id": "5468c52c",
   "metadata": {},
   "outputs": [
    {
     "data": {
      "text/plain": [
       "Point(x=841, y=645)"
      ]
     },
     "execution_count": 9,
     "metadata": {},
     "output_type": "execute_result"
    }
   ],
   "source": [
    "import time\n",
    "import pyautogui\n",
    "time.sleep(5)\n",
    "pyautogui.position()"
   ]
  },
  {
   "cell_type": "code",
   "execution_count": null,
   "id": "a6eb07e3",
   "metadata": {},
   "outputs": [],
   "source": [
    "pyautogui.hotkey('ctrl', 't')\n",
    "pyautogui.write('https://drive.google.com/drive/folders/1pdGvpu6DJzIBqPqu_J7zHEAjyNFq2KNc')\n",
    "pyautogui.press('enter')\n",
    "\n",
    "time.sleep(5)\n",
    "pyautogui.click(x=410, y=288, clicks=2)\n",
    "time.sleep(2)\n",
    "pyautogui.click(x=472, y=380)\n",
    "time.sleep(2)\n",
    "pyautogui.click(x=1164, y=189)\n",
    "time.sleep(2)\n",
    "pyautogui.click(x=1090, y=623)\n",
    "time.sleep(3)\n",
    "\n",
    "tabela = pd.read_excel(r\"C:\\Users\\anavi\\Downloads\\Vendas - Dez.xlsx\")\n",
    "faturamento = tabela[\"Valor Final\"].sum()\n",
    "quantidade = tabela[\"Quantidade\"].sum()\n",
    "print(faturamento)\n",
    "print(quantidade)"
   ]
  }
 ],
 "metadata": {
  "kernelspec": {
   "display_name": "Python 3",
   "language": "python",
   "name": "python3"
  },
  "language_info": {
   "codemirror_mode": {
    "name": "ipython",
    "version": 3
   },
   "file_extension": ".py",
   "mimetype": "text/x-python",
   "name": "python",
   "nbconvert_exporter": "python",
   "pygments_lexer": "ipython3",
   "version": "3.8.8"
  }
 },
 "nbformat": 4,
 "nbformat_minor": 5
}
